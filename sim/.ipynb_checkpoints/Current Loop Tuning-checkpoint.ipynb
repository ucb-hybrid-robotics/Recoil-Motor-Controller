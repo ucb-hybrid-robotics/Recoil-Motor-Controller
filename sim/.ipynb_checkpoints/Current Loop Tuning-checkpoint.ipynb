{
 "cells": [
  {
   "cell_type": "code",
   "execution_count": 1,
   "id": "a2780fb2",
   "metadata": {},
   "outputs": [],
   "source": [
    "import numpy as np"
   ]
  },
  {
   "cell_type": "markdown",
   "id": "723387a6",
   "metadata": {},
   "source": [
    "# Current Loop\n",
    "\n",
    "\n",
    "The steady-state equation of the BLDC motor:\n",
    "\n",
    "$$\n",
    "U = IR + L\\frac{dI}{dt} + K_e\\omega\n",
    "$$\n",
    "\n",
    "The change of rotation speed changes very slow w.r.t the change in current. Thus, the BEMF term ($K_e\\omega$) contributes very little to the equation, and can be eliminated.\n",
    "\n",
    "Then, we get\n",
    "\n",
    "$$\n",
    "U(S) = I(S)R + LI(s)S\n",
    "$$\n",
    "\n",
    "And the voltage - current transfer function will be\n",
    "\n",
    "$$\n",
    "\\frac{I(S)}{U(S)} = \\frac{1}{R + LS} = \\frac{1/R}{1 + \\frac{L}{R}S}\n",
    "$$\n",
    "\n",
    "Assume $K_P$ contains all the bus voltage and PWM gain info, then we have the open-loop transfer function\n",
    "\n",
    "$$\n",
    "G_{open}(S) = G_c(S) * \\frac{I(S)}{U(S)} = K_PK_I\\frac{\\frac{S}{K_I} + 1}{S} * \\frac{\\frac{1}{R}}{1 + \\frac{L}{R}S}\n",
    "$$\n",
    "\n",
    "When $K_I = \\frac{R}{L}$, the zero poles cancel.\n",
    "\n",
    "$$\n",
    "G_{open}(S) = K_PK_I\\frac{\\frac{1}{R}}{S}\n",
    "$$\n",
    "\n",
    "And for the closed loop transfer function:\n",
    "\n",
    "\n",
    "$$\n",
    "G_{closed}(S) = \\frac{G_{open}}{1+G_{open}} = \\frac{K_PK_I\\frac{1}{R}}{S + K_PK_I\\frac{1}{R}}\n",
    "$$\n",
    "\n",
    "Substitute $K_I$,\n",
    "\n",
    "$$\n",
    "G_{closed}(S) = \\frac{G_{open}}{1+G_{open}} = \\frac{\\frac{K_P}{L}}{S + \\frac{K_P}{L}} = \\frac{1}{\\frac{S}{\\frac{K_P}{L}} + 1}\n",
    "$$\n",
    "\n",
    "\n",
    "TODO: add\n",
    "\n",
    "\n",
    "$$\n",
    "K_I = \\frac{R}{L} \\\\\n",
    "K_P = L * Bandwidth\n",
    "$$\n",
    "\n",
    "Assuming we want the bandwidth to be 1/10 of switching frequency, then\n",
    "\n",
    "$$\n",
    "K_{P_max} = L*\\frac{f_{sw}}{10}\n",
    "$$\n",
    "\n",
    "For Recoil Motor Controller, the switching frequency is 20kHz. Thus, $f_{sw}$ = 20kHz, K_P = \n"
   ]
  },
  {
   "cell_type": "code",
   "execution_count": 3,
   "id": "1d2b1b08",
   "metadata": {},
   "outputs": [
    {
     "name": "stdout",
     "output_type": "stream",
     "text": [
      "0.03488387 1634.9298400664836\n"
     ]
    }
   ],
   "source": [
    "R = 0.05703268\n",
    "L = 3.488387e-5\n",
    "\n",
    "f_sw = 20e3\n",
    "f_cur = 1e2\n",
    "\n",
    "Kp = L * (f_cur)\n",
    "Ki = R / L\n",
    "\n",
    "print(Kp, Ki)"
   ]
  }
 ],
 "metadata": {
  "kernelspec": {
   "display_name": "Python 3 (ipykernel)",
   "language": "python",
   "name": "python3"
  },
  "language_info": {
   "codemirror_mode": {
    "name": "ipython",
    "version": 3
   },
   "file_extension": ".py",
   "mimetype": "text/x-python",
   "name": "python",
   "nbconvert_exporter": "python",
   "pygments_lexer": "ipython3",
   "version": "3.10.4"
  }
 },
 "nbformat": 4,
 "nbformat_minor": 5
}
